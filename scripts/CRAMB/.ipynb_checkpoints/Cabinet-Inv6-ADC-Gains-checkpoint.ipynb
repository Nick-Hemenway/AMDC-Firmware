{
 "cells": [
  {
   "cell_type": "code",
   "execution_count": 5,
   "metadata": {},
   "outputs": [],
   "source": [
    "%matplotlib inline\n",
    "\n",
    "import numpy as np\n",
    "import matplotlib.pyplot as plt\n",
    "import sys\n",
    "sys.path.append(\"../\")\n",
    "from AMDC import AMDC\n",
    "import command_que as que\n",
    "from Cramb_Control import Cramb"
   ]
  },
  {
   "cell_type": "markdown",
   "metadata": {},
   "source": [
    "# ADC Gains\n",
    "\n",
    "Each ADC channel has a scalar multiplier which converts raw voltage value into current. This value is unique to each channel and each hardware environment. This document calculates this value for each channel."
   ]
  },
  {
   "cell_type": "markdown",
   "metadata": {},
   "source": [
    "## Set Voltages on Each Phase"
   ]
  },
  {
   "cell_type": "markdown",
   "metadata": {},
   "source": [
    "Initially I was going to use this code below to automatically set the voltages to the desired voltages. Unfortunately, as of right now I have no way of getting output back from the AMDC so I would not be able to read the ADC values after outputting the voltages."
   ]
  },
  {
   "cell_type": "code",
   "execution_count": 6,
   "metadata": {},
   "outputs": [],
   "source": [
    "bus_voltage = 20     #set by DC power supply\n",
    "N = 10               #number of data points\n",
    "channels = 3         #number of ADC channels\n",
    "voltages = np.linspace(0, bus_voltage, N)  #pole voltages\n",
    "\n",
    "###### CREATE COMMANDS AND INFO LIST ######\n",
    "cmd_template = [0, 0, 0]\n",
    "cmds = []\n",
    "info = []\n",
    "\n",
    "for i in range(3):\n",
    "    for j, volts in enumerate(voltages):\n",
    "        \n",
    "        #create command string\n",
    "        cmd = cmd_template.copy()\n",
    "        cmd[i] = volts\n",
    "        cmd = (cmd, (j, i))\n",
    "        cmds.append(cmd)\n",
    "        \n",
    "        #create info list\n",
    "        info.append(f'Data Point {(j+1)+(i*10)}/{N*3}')\n",
    "\n",
    "\n",
    "###### CREATE CLASS FOR EXECUTE FUNCTION ######        \n",
    "class Execute():\n",
    "    \n",
    "    def __init__(self, N, cramb_obj):\n",
    "        \n",
    "        self.data = np.zeros( (N, 6) )\n",
    "        self.cramb = cramb_obj\n",
    "    \n",
    "    def __call__(self, cmd, cmd_cnt):\n",
    "        \n",
    "        #output command and capture data\n",
    "        j, i = cmd[1] #extract indices\n",
    "        cramb.pole_volts(*cmd[0])\n",
    "        true_current = input('Enter True Current: ') #wait for user to input true current value\n",
    "        self.data[j, i + 3] = float(true_current)\n",
    "        #read adc after immediately after current is read so true current matches time at which adc is read\n",
    "        adc = cramb.read_adc()\n",
    "        self.data[j, i] = adc[i]\n",
    "        \n",
    "    def quit(self):\n",
    "        self.cramb.zero()\n",
    "        "
   ]
  },
  {
   "cell_type": "code",
   "execution_count": 7,
   "metadata": {},
   "outputs": [
    {
     "name": "stdout",
     "output_type": "stream",
     "text": [
      "####################  START  #####################\n",
      "Info: Data Point 1/30\n",
      "Current Command: ([0.0, 0, 0], (0, 0))\n"
     ]
    },
    {
     "name": "stdin",
     "output_type": "stream",
     "text": [
      "\n",
      "Enter a command:  e\n",
      "Enter True Current:  0\n"
     ]
    },
    {
     "name": "stdout",
     "output_type": "stream",
     "text": [
      "Executed\n",
      "##################################################\n",
      "Info: Data Point 2/30\n",
      "Current Command: ([2.2222222222222223, 0, 0], (1, 0))\n"
     ]
    },
    {
     "name": "stdin",
     "output_type": "stream",
     "text": [
      "\n",
      "Enter a command:  e\n",
      "Enter True Current:  .13821\n"
     ]
    },
    {
     "name": "stdout",
     "output_type": "stream",
     "text": [
      "Executed\n",
      "##################################################\n",
      "Info: Data Point 3/30\n",
      "Current Command: ([4.444444444444445, 0, 0], (2, 0))\n"
     ]
    },
    {
     "name": "stdin",
     "output_type": "stream",
     "text": [
      "\n",
      "Enter a command:  e\n",
      "Enter True Current:  .27708\n"
     ]
    },
    {
     "name": "stdout",
     "output_type": "stream",
     "text": [
      "Executed\n",
      "##################################################\n",
      "Info: Data Point 4/30\n",
      "Current Command: ([6.666666666666667, 0, 0], (3, 0))\n"
     ]
    },
    {
     "name": "stdin",
     "output_type": "stream",
     "text": [
      "\n",
      "Enter a command:  e\n",
      "Enter True Current:  .4159\n"
     ]
    },
    {
     "name": "stdout",
     "output_type": "stream",
     "text": [
      "Executed\n",
      "##################################################\n",
      "Info: Data Point 5/30\n",
      "Current Command: ([8.88888888888889, 0, 0], (4, 0))\n"
     ]
    },
    {
     "name": "stdin",
     "output_type": "stream",
     "text": [
      "\n",
      "Enter a command:  e\n",
      "Enter True Current:  .5531\n"
     ]
    },
    {
     "name": "stdout",
     "output_type": "stream",
     "text": [
      "Executed\n",
      "##################################################\n",
      "Info: Data Point 6/30\n",
      "Current Command: ([11.11111111111111, 0, 0], (5, 0))\n"
     ]
    },
    {
     "name": "stdin",
     "output_type": "stream",
     "text": [
      "\n",
      "Enter a command:  e\n",
      "Enter True Current:  .679\n"
     ]
    },
    {
     "name": "stdout",
     "output_type": "stream",
     "text": [
      "Executed\n",
      "##################################################\n",
      "Info: Data Point 7/30\n",
      "Current Command: ([13.333333333333334, 0, 0], (6, 0))\n"
     ]
    },
    {
     "name": "stdin",
     "output_type": "stream",
     "text": [
      "\n",
      "Enter a command:  e\n",
      "Enter True Current:  0.818\n"
     ]
    },
    {
     "name": "stdout",
     "output_type": "stream",
     "text": [
      "Executed\n",
      "##################################################\n",
      "Info: Data Point 8/30\n",
      "Current Command: ([15.555555555555557, 0, 0], (7, 0))\n"
     ]
    },
    {
     "name": "stdin",
     "output_type": "stream",
     "text": [
      "\n",
      "Enter a command:  e\n",
      "Enter True Current:  0.9615\n"
     ]
    },
    {
     "name": "stdout",
     "output_type": "stream",
     "text": [
      "Executed\n",
      "##################################################\n",
      "Info: Data Point 9/30\n",
      "Current Command: ([17.77777777777778, 0, 0], (8, 0))\n"
     ]
    },
    {
     "name": "stdin",
     "output_type": "stream",
     "text": [
      "\n",
      "Enter a command:  e\n",
      "Enter True Current:  1.098\n"
     ]
    },
    {
     "name": "stdout",
     "output_type": "stream",
     "text": [
      "Executed\n",
      "##################################################\n",
      "Info: Data Point 10/30\n",
      "Current Command: ([20.0, 0, 0], (9, 0))\n"
     ]
    },
    {
     "name": "stdin",
     "output_type": "stream",
     "text": [
      "\n",
      "Enter a command:  e\n",
      "Enter True Current:  1.0876\n"
     ]
    },
    {
     "name": "stdout",
     "output_type": "stream",
     "text": [
      "Executed\n",
      "##################################################\n",
      "Info: Data Point 11/30\n",
      "Current Command: ([0, 0.0, 0], (0, 1))\n"
     ]
    },
    {
     "name": "stdin",
     "output_type": "stream",
     "text": [
      "\n",
      "Enter a command:  e\n",
      "Enter True Current:  e\n"
     ]
    },
    {
     "name": "stdout",
     "output_type": "stream",
     "text": [
      "Not Executed!!\n",
      "##################################################\n",
      "Info: Data Point 11/30\n",
      "Current Command: ([0, 0.0, 0], (0, 1))\n"
     ]
    },
    {
     "name": "stdin",
     "output_type": "stream",
     "text": [
      "\n",
      "Enter a command:  0\n"
     ]
    },
    {
     "name": "stdout",
     "output_type": "stream",
     "text": [
      "Invalid Input\n",
      "##################################################\n",
      "Info: Data Point 11/30\n",
      "Current Command: ([0, 0.0, 0], (0, 1))\n"
     ]
    },
    {
     "name": "stdin",
     "output_type": "stream",
     "text": [
      "\n",
      "Enter a command:  e\n",
      "Enter True Current:  0\n"
     ]
    },
    {
     "name": "stdout",
     "output_type": "stream",
     "text": [
      "Executed\n",
      "##################################################\n",
      "Info: Data Point 12/30\n",
      "Current Command: ([0, 2.2222222222222223, 0], (1, 1))\n"
     ]
    },
    {
     "name": "stdin",
     "output_type": "stream",
     "text": [
      "\n",
      "Enter a command:  e\n",
      "Enter True Current:  0\n"
     ]
    },
    {
     "name": "stdout",
     "output_type": "stream",
     "text": [
      "Executed\n",
      "##################################################\n",
      "Info: Data Point 13/30\n",
      "Current Command: ([0, 4.444444444444445, 0], (2, 1))\n"
     ]
    },
    {
     "name": "stdin",
     "output_type": "stream",
     "text": [
      "\n",
      "Enter a command:  p\n"
     ]
    },
    {
     "name": "stdout",
     "output_type": "stream",
     "text": [
      "##################################################\n",
      "Info: Data Point 12/30\n",
      "Current Command: ([0, 2.2222222222222223, 0], (1, 1))\n"
     ]
    },
    {
     "name": "stdin",
     "output_type": "stream",
     "text": [
      "\n",
      "Enter a command:  p\n"
     ]
    },
    {
     "name": "stdout",
     "output_type": "stream",
     "text": [
      "##################################################\n",
      "Info: Data Point 11/30\n",
      "Current Command: ([0, 0.0, 0], (0, 1))\n"
     ]
    },
    {
     "name": "stdin",
     "output_type": "stream",
     "text": [
      "\n",
      "Enter a command:  e\n",
      "Enter True Current:  0\n"
     ]
    },
    {
     "name": "stdout",
     "output_type": "stream",
     "text": [
      "Executed\n",
      "##################################################\n",
      "Info: Data Point 12/30\n",
      "Current Command: ([0, 2.2222222222222223, 0], (1, 1))\n"
     ]
    },
    {
     "name": "stdin",
     "output_type": "stream",
     "text": [
      "\n",
      "Enter a command:  e\n",
      "Enter True Current:  0.13642\n"
     ]
    },
    {
     "name": "stdout",
     "output_type": "stream",
     "text": [
      "Executed\n",
      "##################################################\n",
      "Info: Data Point 13/30\n",
      "Current Command: ([0, 4.444444444444445, 0], (2, 1))\n"
     ]
    },
    {
     "name": "stdin",
     "output_type": "stream",
     "text": [
      "\n",
      "Enter a command:  e\n",
      "Enter True Current:  .27338\n"
     ]
    },
    {
     "name": "stdout",
     "output_type": "stream",
     "text": [
      "Executed\n",
      "##################################################\n",
      "Info: Data Point 14/30\n",
      "Current Command: ([0, 6.666666666666667, 0], (3, 1))\n"
     ]
    },
    {
     "name": "stdin",
     "output_type": "stream",
     "text": [
      "\n",
      "Enter a command:  e\n",
      "Enter True Current:  0.4099\n"
     ]
    },
    {
     "name": "stdout",
     "output_type": "stream",
     "text": [
      "Executed\n",
      "##################################################\n",
      "Info: Data Point 15/30\n",
      "Current Command: ([0, 8.88888888888889, 0], (4, 1))\n"
     ]
    },
    {
     "name": "stdin",
     "output_type": "stream",
     "text": [
      "\n",
      "Enter a command:  e\n",
      "Enter True Current:  .5396\n"
     ]
    },
    {
     "name": "stdout",
     "output_type": "stream",
     "text": [
      "Executed\n",
      "##################################################\n",
      "Info: Data Point 16/30\n",
      "Current Command: ([0, 11.11111111111111, 0], (5, 1))\n"
     ]
    },
    {
     "name": "stdin",
     "output_type": "stream",
     "text": [
      "\n",
      "Enter a command:  e\n",
      "Enter True Current:  0.6738\n"
     ]
    },
    {
     "name": "stdout",
     "output_type": "stream",
     "text": [
      "Executed\n",
      "##################################################\n",
      "Info: Data Point 17/30\n",
      "Current Command: ([0, 13.333333333333334, 0], (6, 1))\n"
     ]
    },
    {
     "name": "stdin",
     "output_type": "stream",
     "text": [
      "\n",
      "Enter a command:  e\n",
      "Enter True Current:  0.809\n"
     ]
    },
    {
     "name": "stdout",
     "output_type": "stream",
     "text": [
      "Executed\n",
      "##################################################\n",
      "Info: Data Point 18/30\n",
      "Current Command: ([0, 15.555555555555557, 0], (7, 1))\n"
     ]
    },
    {
     "name": "stdin",
     "output_type": "stream",
     "text": [
      "\n",
      "Enter a command:  e\n",
      "Enter True Current:  0.944\n"
     ]
    },
    {
     "name": "stdout",
     "output_type": "stream",
     "text": [
      "Executed\n",
      "##################################################\n",
      "Info: Data Point 19/30\n",
      "Current Command: ([0, 17.77777777777778, 0], (8, 1))\n"
     ]
    },
    {
     "name": "stdin",
     "output_type": "stream",
     "text": [
      "\n",
      "Enter a command:  e\n",
      "Enter True Current:  1.084\n"
     ]
    },
    {
     "name": "stdout",
     "output_type": "stream",
     "text": [
      "Executed\n",
      "##################################################\n",
      "Info: Data Point 20/30\n",
      "Current Command: ([0, 20.0, 0], (9, 1))\n"
     ]
    },
    {
     "name": "stdin",
     "output_type": "stream",
     "text": [
      "\n",
      "Enter a command:  e\n",
      "Enter True Current:  1.090\n"
     ]
    },
    {
     "name": "stdout",
     "output_type": "stream",
     "text": [
      "Executed\n",
      "##################################################\n",
      "Info: Data Point 21/30\n",
      "Current Command: ([0, 0, 0.0], (0, 2))\n"
     ]
    },
    {
     "name": "stdin",
     "output_type": "stream",
     "text": [
      "\n",
      "Enter a command:  e\n",
      "Enter True Current:  0\n"
     ]
    },
    {
     "name": "stdout",
     "output_type": "stream",
     "text": [
      "Executed\n",
      "##################################################\n",
      "Info: Data Point 22/30\n",
      "Current Command: ([0, 0, 2.2222222222222223], (1, 2))\n"
     ]
    },
    {
     "name": "stdin",
     "output_type": "stream",
     "text": [
      "\n",
      "Enter a command:  e\n",
      "Enter True Current:  0.14053\n"
     ]
    },
    {
     "name": "stdout",
     "output_type": "stream",
     "text": [
      "Executed\n",
      "##################################################\n",
      "Info: Data Point 23/30\n",
      "Current Command: ([0, 0, 4.444444444444445], (2, 2))\n"
     ]
    },
    {
     "name": "stdin",
     "output_type": "stream",
     "text": [
      "\n",
      "Enter a command:  e\n",
      "Enter True Current:  0.2814\n"
     ]
    },
    {
     "name": "stdout",
     "output_type": "stream",
     "text": [
      "Executed\n",
      "##################################################\n",
      "Info: Data Point 24/30\n",
      "Current Command: ([0, 0, 6.666666666666667], (3, 2))\n"
     ]
    },
    {
     "name": "stdin",
     "output_type": "stream",
     "text": [
      "\n",
      "Enter a command:  e\n",
      "Enter True Current:  .4223\n"
     ]
    },
    {
     "name": "stdout",
     "output_type": "stream",
     "text": [
      "Executed\n",
      "##################################################\n",
      "Info: Data Point 25/30\n",
      "Current Command: ([0, 0, 8.88888888888889], (4, 2))\n"
     ]
    },
    {
     "name": "stdin",
     "output_type": "stream",
     "text": [
      "\n",
      "Enter a command:  e\n",
      "Enter True Current:  0.5631\n"
     ]
    },
    {
     "name": "stdout",
     "output_type": "stream",
     "text": [
      "Executed\n",
      "##################################################\n",
      "Info: Data Point 26/30\n",
      "Current Command: ([0, 0, 11.11111111111111], (5, 2))\n"
     ]
    },
    {
     "name": "stdin",
     "output_type": "stream",
     "text": [
      "\n",
      "Enter a command:  e\n",
      "Enter True Current:  0.7016\n"
     ]
    },
    {
     "name": "stdout",
     "output_type": "stream",
     "text": [
      "Executed\n",
      "##################################################\n",
      "Info: Data Point 27/30\n",
      "Current Command: ([0, 0, 13.333333333333334], (6, 2))\n"
     ]
    },
    {
     "name": "stdin",
     "output_type": "stream",
     "text": [
      "\n",
      "Enter a command:  e\n",
      "Enter True Current:  0.835\n"
     ]
    },
    {
     "name": "stdout",
     "output_type": "stream",
     "text": [
      "Executed\n",
      "##################################################\n",
      "Info: Data Point 28/30\n",
      "Current Command: ([0, 0, 15.555555555555557], (7, 2))\n"
     ]
    },
    {
     "name": "stdin",
     "output_type": "stream",
     "text": [
      "\n",
      "Enter a command:  e\n",
      "Enter True Current:  0.979\n"
     ]
    },
    {
     "name": "stdout",
     "output_type": "stream",
     "text": [
      "Executed\n",
      "##################################################\n",
      "Info: Data Point 29/30\n",
      "Current Command: ([0, 0, 17.77777777777778], (8, 2))\n"
     ]
    },
    {
     "name": "stdin",
     "output_type": "stream",
     "text": [
      "\n",
      "Enter a command:  e\n",
      "Enter True Current:  1.119\n"
     ]
    },
    {
     "name": "stdout",
     "output_type": "stream",
     "text": [
      "Executed\n",
      "#####################  End  ######################\n",
      "Info: Data Point 30/30\n",
      "Current Command: ([0, 0, 20.0], (9, 2))\n"
     ]
    },
    {
     "name": "stdin",
     "output_type": "stream",
     "text": [
      "\n",
      "Enter a command:  e\n",
      "Enter True Current:  1.088\n"
     ]
    },
    {
     "name": "stdout",
     "output_type": "stream",
     "text": [
      "Executed\n",
      "#####################  End  ######################\n",
      "Info: Data Point 30/30\n",
      "Current Command: ([0, 0, 20.0], (9, 2))\n"
     ]
    },
    {
     "name": "stdin",
     "output_type": "stream",
     "text": [
      "\n",
      "Enter a command:  q\n"
     ]
    },
    {
     "name": "stdout",
     "output_type": "stream",
     "text": [
      "#####################  DONE  #####################\n",
      "\n",
      "Done with all commands!\n",
      "\n"
     ]
    }
   ],
   "source": [
    "port = \"COM4\"\n",
    "amdc = AMDC(port, cmdEcho = False) #create amdc object\n",
    "cramb = Cramb(amdc) #create cramb object, which has an amdc\n",
    "cramb.connect() #connect the serial communication\n",
    "\n",
    "ex = Execute(N, cramb)\n",
    "\n",
    "ex = que.command_que(cmds = cmds, execute_obj = ex, info = info)\n",
    "cramb.disconnect()\n",
    "np.savetxt(\"ADC_Gain_Data_Test_1.txt\", ex.data, header = 'ADC (A,B,C), I_true (A, B, C)')"
   ]
  },
  {
   "cell_type": "code",
   "execution_count": 9,
   "metadata": {},
   "outputs": [
    {
     "data": {
      "text/plain": [
       "array([[-0.0325 ,  0.005  , -0.0075 ,  0.     ,  0.     ,  0.     ],\n",
       "       [-0.315  , -0.27   , -0.2875 ,  0.13821,  0.13642,  0.14053],\n",
       "       [-0.5925 , -0.5425 , -0.5675 ,  0.27708,  0.27338,  0.2814 ],\n",
       "       [-0.8625 , -0.8075 , -0.84   ,  0.4159 ,  0.4099 ,  0.4223 ],\n",
       "       [-1.125  , -1.06   , -1.1125 ,  0.5531 ,  0.5396 ,  0.5631 ],\n",
       "       [-1.3775 , -1.325  , -1.3925 ,  0.679  ,  0.6738 ,  0.7016 ],\n",
       "       [-1.65   , -1.595  , -1.65   ,  0.818  ,  0.809  ,  0.835  ],\n",
       "       [-1.9275 , -1.86   , -1.93   ,  0.9615 ,  0.944  ,  0.979  ],\n",
       "       [-2.19   , -2.1175 , -2.2    ,  1.098  ,  1.084  ,  1.119  ],\n",
       "       [-2.165  , -2.1325 , -2.1375 ,  1.0876 ,  1.09   ,  1.088  ]])"
      ]
     },
     "execution_count": 9,
     "metadata": {},
     "output_type": "execute_result"
    }
   ],
   "source": [
    "ex.data"
   ]
  },
  {
   "cell_type": "markdown",
   "metadata": {},
   "source": [
    "## Data\n",
    "\n",
    "Data was collected by forcing a DC current through the LEM sensor on each channel. The raw ADC value was then read. The following is the collected data for all three phases (A, B, and C). Various currents are applied."
   ]
  },
  {
   "cell_type": "code",
   "execution_count": 10,
   "metadata": {},
   "outputs": [],
   "source": [
    "v_phase_a, v_phase_b, v_phase_c, i_phase_a, i_phase_b, i_phase_c   = np.loadtxt('ADC_Gain_Data_Test.txt', skiprows = 1, unpack = True)"
   ]
  },
  {
   "cell_type": "markdown",
   "metadata": {},
   "source": [
    "## Plot\n",
    "\n",
    "The linearity of the data depends on the sensor measurement system (LEM sensors, analog front-end, ADCs, etc). The data are plotted below, showing indeed the system looks linear."
   ]
  },
  {
   "cell_type": "code",
   "execution_count": 11,
   "metadata": {},
   "outputs": [
    {
     "data": {
      "image/png": "[encoded data removed]",
      "text/plain": [
       "<Figure size 432x288 with 1 Axes>"
      ]
     },
     "metadata": {
      "needs_background": "light"
     },
     "output_type": "display_data"
    }
   ],
   "source": [
    "fig = plt.figure()\n",
    "ax = fig.add_subplot(1, 1, 1)\n",
    "\n",
    "ax.set_xlabel(\"ADC raw voltage [V]\", color = 'black', fontsize = 16)\n",
    "ax.set_ylabel(\"Input DC current [A]\", color = 'black', fontsize = 16)\n",
    "\n",
    "ax.plot(v_phase_a, i_phase_a, color = 'C0',   linestyle = '',  marker = 'x', markersize = 10,                            markeredgewidth = 2, label = 'A-measured')\n",
    "ax.plot(v_phase_b, i_phase_b, color = 'C1', linestyle = '',  marker = 'o', markersize = 10,  markerfacecolor = 'none', markeredgewidth = 2, label = 'B-measured')\n",
    "ax.plot(v_phase_c, i_phase_c, color = 'C2',  linestyle = '',  marker = '^', markersize = 10,  markerfacecolor = 'none', markeredgewidth = 2, label = 'C-measured')\n",
    "ax.tick_params(labelsize = 12) #make tick labels larger\n",
    "\n",
    "ax.legend(); #adding semicolon in jupyter notebook suppresses output. This is useful sometimes because last line of cell is automatically\n",
    "             #printed even without print statement. (Try removing semicolon and rerunning the cell you will see the output of the legend call)\n",
    "             #note that this is a feature of jupyter notebooks, NOT python. \n",
    "\n",
    "fig.tight_layout()\n",
    "    \n",
    "#note that in Jupyter notebook there is no need to call 'fig.show()'. Figures will display automatically because of the magic\n",
    "#command ''%matplotlib inline' that was used at the beginning of this notebook"
   ]
  },
  {
   "cell_type": "markdown",
   "metadata": {},
   "source": [
    "## Extracting ADC gains\n",
    "\n",
    "The slope of the plotted line relates the input current through the sensor to the ADC raw voltage value.\n",
    "\n",
    "We need the ADC $Gain$ for the following equation: $ Current = Gain * ADC\\_Voltage + Offset$\n",
    "\n",
    "Therefore, we apply a best fit linear line. Then, the inverse of the slope gives us the gain."
   ]
  },
  {
   "cell_type": "code",
   "execution_count": 12,
   "metadata": {},
   "outputs": [
    {
     "name": "stdout",
     "output_type": "stream",
     "text": [
      "Phase A ADC Fit: I = -0.510336*ADC_Voltage + -0.0220719\n",
      "Phase B ADC Fit: I = -0.510154*ADC_Voltage + -0.00214312\n",
      "Phase C ADC Fit: I = -0.510732*ADC_Voltage + -0.00668117\n"
     ]
    }
   ],
   "source": [
    "Pa = np.polyfit(v_phase_a, i_phase_a, 1)\n",
    "Pb = np.polyfit(v_phase_b, i_phase_b, 1)\n",
    "Pc = np.polyfit(v_phase_c, i_phase_c, 1)\n",
    "\n",
    "print(f'Phase A ADC Fit: I = {Pa[0] :.6}*ADC_Voltage + {Pa[1] :.6}')\n",
    "print(f'Phase B ADC Fit: I = {Pb[0] :.6}*ADC_Voltage + {Pb[1] :.6}')\n",
    "print(f'Phase C ADC Fit: I = {Pc[0] :.6}*ADC_Voltage + {Pc[1] :.6}')"
   ]
  },
  {
   "cell_type": "markdown",
   "metadata": {},
   "source": [
    "We can plot these curve fits on the plot above to obtain the following plot:"
   ]
  },
  {
   "cell_type": "code",
   "execution_count": 13,
   "metadata": {},
   "outputs": [
    {
     "data": {
      "image/png": "[encoded data removed]",
      "text/plain": [
       "<Figure size 432x288 with 1 Axes>"
      ]
     },
     "execution_count": 13,
     "metadata": {},
     "output_type": "execute_result"
    }
   ],
   "source": [
    "x_fit = v_phase_a #create array of values to plot the fit curves with\n",
    "\n",
    "#evaluate each polynomial fit at each x point\n",
    "yfit_a = np.polyval(Pa, x_fit)\n",
    "yfit_b = np.polyval(Pb, x_fit)\n",
    "yfit_c = np.polyval(Pc, x_fit)\n",
    "\n",
    "#plot the linear fits over the experimental data\n",
    "ax.plot(x_fit, yfit_a, c = 'C0', ls = '-', label = 'A-fit', zorder = -1)\n",
    "ax.plot(x_fit, yfit_b, c = 'C1', ls = '--', label = 'B-fit', zorder = -1)\n",
    "ax.plot(x_fit, yfit_c, c = 'C2', ls = '-.', label = 'C-fit', zorder = -1)\n",
    "\n",
    "ax.legend(ncol = 2) #recreate the legend with 2 columns\n",
    "fig #call the figure object  to redisplay it. Note that just calling the figure like this is an artifact of jupyter notebooks.\n",
    "    #in any other IDE, you would have to call fig.show() again to redisplay the figure."
   ]
  },
  {
   "cell_type": "markdown",
   "metadata": {},
   "source": [
    "We can see that the linear fits line up well with the data. If we wanted more information about our curve fits (like the correlation of our line, etc.) we could have used the curve fit functions built into scipy or scikit learn which would give us more information."
   ]
  },
  {
   "cell_type": "code",
   "execution_count": null,
   "metadata": {},
   "outputs": [],
   "source": []
  }
 ],
 "metadata": {
  "kernelspec": {
   "display_name": "Python 3",
   "language": "python",
   "name": "python3"
  },
  "language_info": {
   "codemirror_mode": {
    "name": "ipython",
    "version": 3
   },
   "file_extension": ".py",
   "mimetype": "text/x-python",
   "name": "python",
   "nbconvert_exporter": "python",
   "pygments_lexer": "ipython3",
   "version": "3.7.3"
  }
 },
 "nbformat": 4,
 "nbformat_minor": 2
}
