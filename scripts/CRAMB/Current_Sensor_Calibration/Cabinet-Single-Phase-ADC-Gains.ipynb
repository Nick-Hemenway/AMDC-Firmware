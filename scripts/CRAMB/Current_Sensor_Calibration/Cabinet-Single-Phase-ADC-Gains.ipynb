{
 "cells": [
  {
   "cell_type": "code",
   "execution_count": 55,
   "metadata": {},
   "outputs": [],
   "source": [
    "%matplotlib inline\n",
    "\n",
    "import numpy as np\n",
    "import matplotlib.pyplot as plt\n",
    "import sys\n",
    "sys.path.append(\"../\")\n",
    "sys.path.append(\"../../\")\n",
    "from AMDC import AMDC\n",
    "import command_que as que\n",
    "from Cramb_Control import CRAMB\n",
    "import os"
   ]
  },
  {
   "cell_type": "markdown",
   "metadata": {},
   "source": [
    "## Input"
   ]
  },
  {
   "cell_type": "code",
   "execution_count": 56,
   "metadata": {},
   "outputs": [],
   "source": [
    "bus_voltage = 30     #set by DC power supply\n",
    "inverter_num = 3"
   ]
  },
  {
   "cell_type": "markdown",
   "metadata": {},
   "source": [
    "# ADC Gains\n",
    "\n",
    "Each ADC channel has a scalar multiplier which converts raw voltage value into current. This value is unique to each channel and each hardware environment. This document calculates this value for each channel."
   ]
  },
  {
   "cell_type": "markdown",
   "metadata": {},
   "source": [
    "## Set Voltages on Each Phase"
   ]
  },
  {
   "cell_type": "markdown",
   "metadata": {},
   "source": [
    "Initially I was going to use this code below to automatically set the voltages to the desired voltages. Unfortunately, as of right now I have no way of getting output back from the AMDC so I would not be able to read the ADC values after outputting the voltages."
   ]
  },
  {
   "cell_type": "code",
   "execution_count": 57,
   "metadata": {},
   "outputs": [],
   "source": [
    "N = 10               #number of data points\n",
    "voltages = np.linspace(0, bus_voltage, N)  #pole voltages\n",
    "\n",
    "###### CREATE COMMANDS AND INFO LIST ######\n",
    "cmds = []\n",
    "info = []\n",
    "\n",
    "for i, volts in enumerate(voltages):\n",
    "\n",
    "    #create command string\n",
    "    cmd = (volts, i)\n",
    "    cmds.append(cmd)\n",
    "\n",
    "    #create info list\n",
    "    info.append(f'Data Point {i+1}/{N}')\n",
    "    "
   ]
  },
  {
   "cell_type": "code",
   "execution_count": 58,
   "metadata": {},
   "outputs": [],
   "source": [
    "###### CREATE CLASS FOR EXECUTE FUNCTION ######        \n",
    "class Execute():\n",
    "    \n",
    "    def __init__(self, N, cramb_obj):\n",
    "        \n",
    "        self.data = np.zeros( (N, 2) )\n",
    "        self.cramb = cramb_obj\n",
    "    \n",
    "    def __call__(self, cmd, cmd_cnt):\n",
    "        \n",
    "        #output command and capture data\n",
    "        volts, i = cmd #unpack tuple\n",
    "        cramb.a_pole_volts(volts, 0)\n",
    "        true_current = input('Enter True Current: ') #wait for user to input true current value\n",
    "        self.data[i,1] = float(true_current)\n",
    "        #read adc after immediately after current is read so true current matches time at which adc is read\n",
    "        adc = cramb.a_read_adc()\n",
    "        self.data[i,0] = adc\n",
    "        \n",
    "    def quit(self):\n",
    "        self.cramb.a_zero()"
   ]
  },
  {
   "cell_type": "code",
   "execution_count": 59,
   "metadata": {},
   "outputs": [],
   "source": [
    "def save_name(file_name):\n",
    "    \n",
    "    suffix = '.txt'\n",
    "    cnt = 0\n",
    "    while os.path.exists(file_name + suffix):\n",
    "        cnt+=1\n",
    "        suffix = '_' + f'{cnt}'.rjust(3, '0') + '.txt' \n",
    "        \n",
    "    fname = file_name + suffix\n",
    "    return fname    "
   ]
  },
  {
   "cell_type": "code",
   "execution_count": 60,
   "metadata": {},
   "outputs": [
    {
     "name": "stdout",
     "output_type": "stream",
     "text": [
      "####################  START  #####################\n",
      "Info: Data Point 1/10\n",
      "Current Command: (0.0, 0)\n"
     ]
    },
    {
     "name": "stdin",
     "output_type": "stream",
     "text": [
      "\n",
      "Enter a command:  e\n",
      "Enter True Current:  .0000004\n"
     ]
    },
    {
     "name": "stdout",
     "output_type": "stream",
     "text": [
      "Executed\n",
      "##################################################\n",
      "Info: Data Point 2/10\n",
      "Current Command: (3.3333333333333335, 1)\n"
     ]
    },
    {
     "name": "stdin",
     "output_type": "stream",
     "text": [
      "\n",
      "Enter a command:  e\n",
      "Enter True Current:  .15525\n"
     ]
    },
    {
     "name": "stdout",
     "output_type": "stream",
     "text": [
      "Executed\n",
      "##################################################\n",
      "Info: Data Point 3/10\n",
      "Current Command: (6.666666666666667, 2)\n"
     ]
    },
    {
     "name": "stdin",
     "output_type": "stream",
     "text": [
      "\n",
      "Enter a command:  e\n",
      "Enter True Current:  .31099\n"
     ]
    },
    {
     "name": "stdout",
     "output_type": "stream",
     "text": [
      "Executed\n",
      "##################################################\n",
      "Info: Data Point 4/10\n",
      "Current Command: (10.0, 3)\n"
     ]
    },
    {
     "name": "stdin",
     "output_type": "stream",
     "text": [
      "\n",
      "Enter a command:  e\n",
      "Enter True Current:  .4669\n"
     ]
    },
    {
     "name": "stdout",
     "output_type": "stream",
     "text": [
      "Executed\n",
      "##################################################\n",
      "Info: Data Point 5/10\n",
      "Current Command: (13.333333333333334, 4)\n"
     ]
    },
    {
     "name": "stdin",
     "output_type": "stream",
     "text": [
      "\n",
      "Enter a command:  e\n",
      "Enter True Current:  .6227\n"
     ]
    },
    {
     "name": "stdout",
     "output_type": "stream",
     "text": [
      "Executed\n",
      "##################################################\n",
      "Info: Data Point 6/10\n",
      "Current Command: (16.666666666666668, 5)\n"
     ]
    },
    {
     "name": "stdin",
     "output_type": "stream",
     "text": [
      "\n",
      "Enter a command:  e\n",
      "Enter True Current:  .7783\n"
     ]
    },
    {
     "name": "stdout",
     "output_type": "stream",
     "text": [
      "Executed\n",
      "##################################################\n",
      "Info: Data Point 7/10\n",
      "Current Command: (20.0, 6)\n"
     ]
    },
    {
     "name": "stdin",
     "output_type": "stream",
     "text": [
      "\n",
      "Enter a command:  e\n",
      "Enter True Current:  .9330\n"
     ]
    },
    {
     "name": "stdout",
     "output_type": "stream",
     "text": [
      "Executed\n",
      "##################################################\n",
      "Info: Data Point 8/10\n",
      "Current Command: (23.333333333333336, 7)\n"
     ]
    },
    {
     "name": "stdin",
     "output_type": "stream",
     "text": [
      "\n",
      "Enter a command:  e\n",
      "Enter True Current:  1.0876\n"
     ]
    },
    {
     "name": "stdout",
     "output_type": "stream",
     "text": [
      "Executed\n",
      "##################################################\n",
      "Info: Data Point 9/10\n",
      "Current Command: (26.666666666666668, 8)\n"
     ]
    },
    {
     "name": "stdin",
     "output_type": "stream",
     "text": [
      "\n",
      "Enter a command:  e\n",
      "Enter True Current:  1.1333\n"
     ]
    },
    {
     "name": "stdout",
     "output_type": "stream",
     "text": [
      "Executed\n",
      "#####################  End  ######################\n",
      "Info: Data Point 10/10\n",
      "Current Command: (30.0, 9)\n"
     ]
    },
    {
     "name": "stdin",
     "output_type": "stream",
     "text": [
      "\n",
      "Enter a command:  e\n",
      "Enter True Current:  1.0100\n"
     ]
    },
    {
     "name": "stdout",
     "output_type": "stream",
     "text": [
      "Executed\n",
      "#####################  End  ######################\n",
      "Info: Data Point 10/10\n",
      "Current Command: (30.0, 9)\n"
     ]
    },
    {
     "name": "stdin",
     "output_type": "stream",
     "text": [
      "\n",
      "Enter a command:  q\n"
     ]
    },
    {
     "name": "stdout",
     "output_type": "stream",
     "text": [
      "#####################  DONE  #####################\n",
      "\n",
      "Done with all commands!\n",
      "\n"
     ]
    }
   ],
   "source": [
    "port = \"COM4\"\n",
    "amdc = AMDC(port, cmdEcho = False) #create amdc object\n",
    "cramb = CRAMB(amdc) #create cramb object, which has an amdc\n",
    "cramb.connect() #connect the serial communication\n",
    "\n",
    "cramb.a_set_vdc(bus_voltage)\n",
    "cramb.a_set_inverter(inverter_num)\n",
    "\n",
    "ex = Execute(N, cramb)\n",
    "\n",
    "ex = que.command_que(cmds = cmds, execute_obj = ex, info = info)\n",
    "cramb.disconnect()\n",
    "\n",
    "#save the data to a file\n",
    "file_name = f\"ADC_Gain_Data_INV{inverter_num}\"\n",
    "fname = save_name(file_name) #ensure that data is not overwritten by creating unique file names\n",
    "np.savetxt(fname, ex.data, header = 'ADC, I_true')"
   ]
  },
  {
   "cell_type": "code",
   "execution_count": 61,
   "metadata": {},
   "outputs": [
    {
     "data": {
      "text/plain": [
       "array([[ 5.0000e-03,  4.0000e-07],\n",
       "       [-3.0000e-01,  1.5525e-01],\n",
       "       [-6.1250e-01,  3.1099e-01],\n",
       "       [-9.2250e-01,  4.6690e-01],\n",
       "       [-1.2350e+00,  6.2270e-01],\n",
       "       [-1.5450e+00,  7.7830e-01],\n",
       "       [-1.8575e+00,  9.3300e-01],\n",
       "       [-2.1650e+00,  1.0876e+00],\n",
       "       [-2.2600e+00,  1.1333e+00],\n",
       "       [-2.0125e+00,  1.0100e+00]])"
      ]
     },
     "execution_count": 61,
     "metadata": {},
     "output_type": "execute_result"
    }
   ],
   "source": [
    "ex.data"
   ]
  },
  {
   "cell_type": "markdown",
   "metadata": {},
   "source": [
    "## Data\n",
    "\n",
    "Data was collected by forcing a DC current through the LEM sensor on each channel. The raw ADC value was then read. The following is the collected data for all three phases (A, B, and C). Various currents are applied."
   ]
  },
  {
   "cell_type": "code",
   "execution_count": 62,
   "metadata": {},
   "outputs": [],
   "source": [
    "v_adc, i_true   = np.loadtxt(fname, skiprows = 1, unpack = True)"
   ]
  },
  {
   "cell_type": "markdown",
   "metadata": {},
   "source": [
    "## Plot\n",
    "\n",
    "The linearity of the data depends on the sensor measurement system (LEM sensors, analog front-end, ADCs, etc). The data are plotted below, showing indeed the system looks linear."
   ]
  },
  {
   "cell_type": "code",
   "execution_count": 63,
   "metadata": {},
   "outputs": [
    {
     "data": {
      "image/png": "[encoded data removed]",
      "text/plain": [
       "<Figure size 432x288 with 1 Axes>"
      ]
     },
     "metadata": {
      "needs_background": "light"
     },
     "output_type": "display_data"
    }
   ],
   "source": [
    "fig = plt.figure()\n",
    "ax = fig.add_subplot(1, 1, 1)\n",
    "\n",
    "ax.set_xlabel(\"ADC raw voltage [V]\", color = 'black', fontsize = 16)\n",
    "ax.set_ylabel(\"Input DC current [A]\", color = 'black', fontsize = 16)\n",
    "\n",
    "ax.plot(v_adc, i_true, color = 'C0',   linestyle = '',  marker = 'x', markersize = 10, markeredgewidth = 2, label = 'A-measured')\n",
    "ax.tick_params(labelsize = 12) #make tick labels larger\n",
    "\n",
    "ax.legend(); #adding semicolon in jupyter notebook suppresses output. This is useful sometimes because last line of cell is automatically\n",
    "             #printed even without print statement. (Try removing semicolon and rerunning the cell you will see the output of the legend call)\n",
    "             #note that this is a feature of jupyter notebooks, NOT python. \n",
    "\n",
    "fig.tight_layout()\n",
    "    \n",
    "#note that in Jupyter notebook there is no need to call 'fig.show()'. Figures will display automatically because of the magic\n",
    "#command ''%matplotlib inline' that was used at the beginning of this notebook"
   ]
  },
  {
   "cell_type": "markdown",
   "metadata": {},
   "source": [
    "## Extracting ADC gains\n",
    "\n",
    "The slope of the plotted line relates the input current through the sensor to the ADC raw voltage value.\n",
    "\n",
    "We need the ADC $Gain$ for the following equation: $ Current = Gain * ADC\\_Voltage + Offset$\n",
    "\n",
    "Therefore, we apply a best fit linear line. Then, the inverse of the slope gives us the gain."
   ]
  },
  {
   "cell_type": "code",
   "execution_count": 64,
   "metadata": {},
   "outputs": [
    {
     "name": "stdout",
     "output_type": "stream",
     "text": [
      "ADC Fit: I = -0.500039*ADC_Voltage + 0.00450309\n"
     ]
    }
   ],
   "source": [
    "P = np.polyfit(v_adc, i_true, 1)\n",
    "\n",
    "print(f'ADC Fit: I = {P[0] :.6}*ADC_Voltage + {P[1] :.6}')"
   ]
  },
  {
   "cell_type": "markdown",
   "metadata": {},
   "source": [
    "We can write these values to the data file for future reference."
   ]
  },
  {
   "cell_type": "code",
   "execution_count": 65,
   "metadata": {},
   "outputs": [],
   "source": [
    "with open(fname, 'a') as f:\n",
    "    end_of_file = f'#\\n#SLOPE: {P[0]}\\n#OFFSET {P[1]}\\n#'\n",
    "    f.write(end_of_file)"
   ]
  },
  {
   "cell_type": "markdown",
   "metadata": {},
   "source": [
    "We can plot these curve fits on the plot above to obtain the following plot:"
   ]
  },
  {
   "cell_type": "code",
   "execution_count": 66,
   "metadata": {},
   "outputs": [
    {
     "data": {
      "image/png": "[encoded data removed]",
      "text/plain": [
       "<Figure size 432x288 with 1 Axes>"
      ]
     },
     "execution_count": 66,
     "metadata": {},
     "output_type": "execute_result"
    }
   ],
   "source": [
    "x_fit = v_adc #create array of values to plot the fit curves with\n",
    "\n",
    "#evaluate each polynomial fit at each x point\n",
    "yfit = np.polyval(P, x_fit)\n",
    "\n",
    "#plot the linear fits over the experimental data\n",
    "ax.plot(x_fit, yfit, c = 'C0', ls = '-', label = 'A-fit', zorder = -1)\n",
    "\n",
    "ax.legend(ncol = 2) #recreate the legend with 2 columns\n",
    "fig #call the figure object  to redisplay it. Note that just calling the figure like this is an artifact of jupyter notebooks.\n",
    "    #in any other IDE, you would have to call fig.show() again to redisplay the figure."
   ]
  },
  {
   "cell_type": "markdown",
   "metadata": {},
   "source": [
    "We can see that the linear fits line up well with the data. If we wanted more information about our curve fits (like the correlation of our line, etc.) we could have used the curve fit functions built into scipy or scikit learn which would give us more information."
   ]
  },
  {
   "cell_type": "code",
   "execution_count": null,
   "metadata": {},
   "outputs": [],
   "source": []
  }
 ],
 "metadata": {
  "kernelspec": {
   "display_name": "Python 3",
   "language": "python",
   "name": "python3"
  },
  "language_info": {
   "codemirror_mode": {
    "name": "ipython",
    "version": 3
   },
   "file_extension": ".py",
   "mimetype": "text/x-python",
   "name": "python",
   "nbconvert_exporter": "python",
   "pygments_lexer": "ipython3",
   "version": "3.7.3"
  }
 },
 "nbformat": 4,
 "nbformat_minor": 2
}
